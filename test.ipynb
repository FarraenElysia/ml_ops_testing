{
 "cells": [
  {
   "cell_type": "code",
   "execution_count": 3,
   "metadata": {},
   "outputs": [
    {
     "name": "stderr",
     "output_type": "stream",
     "text": [
      "WARNING: The following untracked files were present in the workspace before saving but will not be included in the experiment commit:\n",
      "\tpyproject.toml, poetry.lock, .dvcignore, .dvc/config, .dvc/.gitignore, .vscode/settings.json\n"
     ]
    }
   ],
   "source": [
    "import random\n",
    "import sys\n",
    "from dvclive import Live\n",
    "\n",
    "with Live(save_dvc_exp=True) as live:\n",
    "    epochs = 10\n",
    "    live.log_param(\"epochs\", epochs)\n",
    "    for epoch in range(epochs):\n",
    "        live.log_metric(\"train/accuracy\", epoch + random.random())\n",
    "        live.log_metric(\"train/loss\", epochs - epoch - random.random())\n",
    "        live.log_metric(\"val/accuracy\",epoch + random.random() )\n",
    "        live.log_metric(\"val/loss\", epochs - epoch - random.random())\n",
    "        live.next_step()"
   ]
  }
 ],
 "metadata": {
  "kernelspec": {
   "display_name": ".venv",
   "language": "python",
   "name": "python3"
  },
  "language_info": {
   "codemirror_mode": {
    "name": "ipython",
    "version": 3
   },
   "file_extension": ".py",
   "mimetype": "text/x-python",
   "name": "python",
   "nbconvert_exporter": "python",
   "pygments_lexer": "ipython3",
   "version": "3.12.5"
  }
 },
 "nbformat": 4,
 "nbformat_minor": 2
}
